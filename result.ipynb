{
 "cells": [
  {
   "cell_type": "code",
   "execution_count": 26,
   "metadata": {},
   "outputs": [
    {
     "data": {
      "text/html": [
       "<div>\n",
       "<style scoped>\n",
       "    .dataframe tbody tr th:only-of-type {\n",
       "        vertical-align: middle;\n",
       "    }\n",
       "\n",
       "    .dataframe tbody tr th {\n",
       "        vertical-align: top;\n",
       "    }\n",
       "\n",
       "    .dataframe thead th {\n",
       "        text-align: right;\n",
       "    }\n",
       "</style>\n",
       "<table border=\"1\" class=\"dataframe\">\n",
       "  <thead>\n",
       "    <tr style=\"text-align: right;\">\n",
       "      <th></th>\n",
       "      <th>question_id</th>\n",
       "      <th>answer</th>\n",
       "    </tr>\n",
       "  </thead>\n",
       "  <tbody>\n",
       "    <tr>\n",
       "      <th>0</th>\n",
       "      <td>text1</td>\n",
       "      <td>False</td>\n",
       "    </tr>\n",
       "    <tr>\n",
       "      <th>1</th>\n",
       "      <td>text2</td>\n",
       "      <td>False</td>\n",
       "    </tr>\n",
       "    <tr>\n",
       "      <th>2</th>\n",
       "      <td>text3</td>\n",
       "      <td>False</td>\n",
       "    </tr>\n",
       "    <tr>\n",
       "      <th>3</th>\n",
       "      <td>text4</td>\n",
       "      <td>True</td>\n",
       "    </tr>\n",
       "    <tr>\n",
       "      <th>4</th>\n",
       "      <td>text5</td>\n",
       "      <td>False</td>\n",
       "    </tr>\n",
       "  </tbody>\n",
       "</table>\n",
       "</div>"
      ],
      "text/plain": [
       "  question_id  answer\n",
       "0       text1   False\n",
       "1       text2   False\n",
       "2       text3   False\n",
       "3       text4    True\n",
       "4       text5   False"
      ]
     },
     "execution_count": 26,
     "metadata": {},
     "output_type": "execute_result"
    }
   ],
   "source": [
    "import pandas as pd\n",
    "data=pd.read_csv('/Users/MSI/OneDrive/Desktop/Final Year Project/face-recognition/face_emotion_website/answers.csv')\n",
    "data.head()"
   ]
  },
  {
   "cell_type": "code",
   "execution_count": 27,
   "metadata": {},
   "outputs": [],
   "source": [
    "scales = {\n",
    "    'Hs': ['text1', 'text11', 'text21', 'text31', 'text41','text51', 'text61', 'text71', 'text81', 'text91'],   # Hypochondriasis\n",
    "    'D': ['text2', 'text12', 'text22', 'text32', 'text42','text52', 'text62', 'text72', 'text82', 'text92'],    # Depression\n",
    "    'Hy': ['text3', 'text13', 'text23', 'text33', 'text43','text53', 'text63', 'text73', 'text83', 'text93'],   # Hysteria\n",
    "    'Pd': ['text4', 'text14', 'text24', 'text34', 'text44','text54', 'text64', 'text74', 'text84', 'text94'],   # Psychopathic Deviate\n",
    "    'Mf': ['text5', 'text15', 'text25', 'text35', 'text45','text55', 'text65', 'text75', 'text85', 'text95'], # Masculinity-Femininity\n",
    "    'Pa': ['text6', 'text16', 'text26', 'text36', 'text46','text56', 'text66', 'text76', 'text86', 'text96'], # Paranoia\n",
    "    'Pt': ['text7', 'text17', 'text27', 'text37', 'text47','text57', 'text67', 'text77', 'text87', 'text97'], # Psychasthenia\n",
    "    'Sc': ['text8', 'text18', 'text28', 'text38', 'text48','text58', 'text68', 'text78', 'text88', 'text98'], # Schizophrenia\n",
    "    'Ma': ['text9', 'text19', 'text29', 'text39', 'text49','text59', 'text69', 'text79', 'text89', 'text99'],  # Hypomania\n",
    "    'Si': ['text10', 'text20', 'text30', 'text40', 'text50','text60', 'text70', 'text80', 'text90']\n",
    "}"
   ]
  },
  {
   "cell_type": "code",
   "execution_count": 28,
   "metadata": {},
   "outputs": [
    {
     "name": "stdout",
     "output_type": "stream",
     "text": [
      "MMPI-2 Test Scores:\n",
      "Hs: 4\n",
      "D: 6\n",
      "Hy: 7\n",
      "Pd: 6\n",
      "Mf: 4\n",
      "Pa: 4\n",
      "Pt: 4\n",
      "Sc: 4\n",
      "Ma: 6\n",
      "Si: 4\n"
     ]
    },
    {
     "name": "stderr",
     "output_type": "stream",
     "text": [
      "C:\\Users\\MSI\\AppData\\Local\\Temp\\ipykernel_9764\\3430606750.py:1: FutureWarning: A value is trying to be set on a copy of a DataFrame or Series through chained assignment using an inplace method.\n",
      "The behavior will change in pandas 3.0. This inplace method will never work because the intermediate object on which we are setting values always behaves as a copy.\n",
      "\n",
      "For example, when doing 'df[col].method(value, inplace=True)', try using 'df.method({col: value}, inplace=True)' or df[col] = df[col].method(value) instead, to perform the operation inplace on the original object.\n",
      "\n",
      "\n",
      "  data['answer'].replace({'True': 1, 'False': 0}, inplace=True)\n"
     ]
    }
   ],
   "source": [
    "data['answer'].replace({'True': 1, 'False': 0}, inplace=True)\n",
    "scores = {}\n",
    "for scale, question_ids in scales.items():\n",
    "    # Filter data for questions related to the current scale and sum the answers\n",
    "    relevant_data = data[data['question_id'].isin(question_ids)]\n",
    "    scores[scale] = relevant_data['answer'].sum()\n",
    "\n",
    "# Print the calculated scores\n",
    "print(\"MMPI-2 Test Scores:\")\n",
    "for scale, score in scores.items():\n",
    "    print(f\"{scale}: {score}\")"
   ]
  },
  {
   "cell_type": "code",
   "execution_count": 29,
   "metadata": {},
   "outputs": [
    {
     "name": "stdout",
     "output_type": "stream",
     "text": [
      "Hs Scores: 4\n",
      "D Scores: 6\n",
      "Hy Scores: 7\n",
      "Pd Scores: 6\n",
      "Mf Scores: 4\n",
      "Pa Scores: 4\n",
      "Pt Scores: 4\n",
      "Sc Scores: 4\n",
      "Ma Scores: 6\n",
      "Si Scores: 4\n"
     ]
    }
   ],
   "source": [
    "for scale, score_list in scores.items():\n",
    "    print(f\"{scale} Scores: {score_list}\")"
   ]
  },
  {
   "cell_type": "code",
   "execution_count": 30,
   "metadata": {},
   "outputs": [
    {
     "data": {
      "image/png": "[encoded data removed]",
      "text/plain": [
       "<Figure size 1200x800 with 1 Axes>"
      ]
     },
     "metadata": {},
     "output_type": "display_data"
    }
   ],
   "source": [
    "import matplotlib.pyplot as plt\n",
    "\n",
    "# Plotting the results\n",
    "plt.figure(figsize=(12, 8))\n",
    "plt.bar(scores.keys(), scores.values(), color='skyblue')\n",
    "plt.xlabel('Clinical Scales')\n",
    "plt.ylabel('Scores')\n",
    "plt.title('MMPI-2 Test Scores')\n",
    "plt.xticks(rotation=45)\n",
    "plt.show()\n"
   ]
  },
  {
   "cell_type": "code",
   "execution_count": null,
   "metadata": {},
   "outputs": [],
   "source": []
  }
 ],
 "metadata": {
  "kernelspec": {
   "display_name": "Python 3",
   "language": "python",
   "name": "python3"
  },
  "language_info": {
   "codemirror_mode": {
    "name": "ipython",
    "version": 3
   },
   "file_extension": ".py",
   "mimetype": "text/x-python",
   "name": "python",
   "nbconvert_exporter": "python",
   "pygments_lexer": "ipython3",
   "version": "3.12.3"
  }
 },
 "nbformat": 4,
 "nbformat_minor": 2
}
